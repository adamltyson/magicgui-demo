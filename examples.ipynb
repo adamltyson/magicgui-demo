{
 "cells": [
  {
   "cell_type": "markdown",
   "metadata": {},
   "source": [
    "# Introduction\n",
    "\n",
    "The core feature of `magicgui` is the `@magicgui` decorator, which turns a function into an appropriate widget."
   ]
  },
  {
   "cell_type": "code",
   "execution_count": 8,
   "metadata": {},
   "outputs": [],
   "source": [
    "from magicgui import magicgui"
   ]
  },
  {
   "cell_type": "markdown",
   "metadata": {},
   "source": [
    "### Basic GUI, input widget based on type"
   ]
  },
  {
   "cell_type": "code",
   "execution_count": 12,
   "metadata": {},
   "outputs": [
    {
     "name": "stdout",
     "output_type": "stream",
     "text": [
      "4\n",
      "4\n",
      "6\n",
      "9\n"
     ]
    },
    {
     "data": {
      "image/png": "[encoded data removed]",
      "text/plain": [
       "<FunctionGui add(x: int = 3, y: int = 6)>"
      ]
     },
     "execution_count": 12,
     "metadata": {},
     "output_type": "execute_result"
    }
   ],
   "source": [
    "@magicgui\n",
    "def add(x: int, y: int):\n",
    "    print(x + y)\n",
    "\n",
    "\n",
    "add.show(run=True)"
   ]
  },
  {
   "cell_type": "markdown",
   "metadata": {},
   "source": [
    "### Add a dropdown"
   ]
  },
  {
   "cell_type": "code",
   "execution_count": 16,
   "metadata": {
    "pycharm": {
     "is_executing": true
    }
   },
   "outputs": [
    {
     "name": "stdout",
     "output_type": "stream",
     "text": [
      "8\n",
      "20\n",
      "5.0\n",
      "12\n"
     ]
    },
    {
     "data": {
      "image/png": "[encoded data removed]",
      "text/plain": [
       "<FunctionGui calculator(x: int = 10, y: int = 2, operation='add')>"
      ]
     },
     "execution_count": 16,
     "metadata": {},
     "output_type": "execute_result"
    }
   ],
   "source": [
    "@magicgui(operation={\"choices\": [\"add\", \"subtract\", \"multiply\", \"divide\"]})\n",
    "def calculator(x: int, y: int, operation=\"add\"):\n",
    "    if operation == \"add\":\n",
    "        print(x + y)\n",
    "    elif operation == \"subtract\":\n",
    "        print(x - y)\n",
    "    elif operation == \"multiply\":\n",
    "        print(x * y)\n",
    "    elif operation == \"divide\":\n",
    "        print(x / y)\n",
    "\n",
    "calculator.show(run=True)"
   ]
  },
  {
   "cell_type": "markdown",
   "metadata": {},
   "source": [
    "### Customise\n",
    "\n",
    "Rename run button & display result in GUI"
   ]
  },
  {
   "cell_type": "code",
   "execution_count": 25,
   "metadata": {},
   "outputs": [
    {
     "data": {
      "image/png": "[encoded data removed]",
      "text/plain": [
       "<FunctionGui calculator(x: int = 4, y: int = 5, operation='multiply')>"
      ]
     },
     "execution_count": 25,
     "metadata": {},
     "output_type": "execute_result"
    }
   ],
   "source": [
    "@magicgui(operation={\"choices\": [\"add\", \"subtract\", \"multiply\", \"divide\"]},\n",
    "         call_button=\"Calculate\", result_widget=True)\n",
    "def calculator(x: int, y: int, operation=\"add\"):\n",
    "    if operation == \"add\":\n",
    "        return x + y\n",
    "    elif operation == \"subtract\":\n",
    "        return x - y\n",
    "    elif operation == \"multiply\":\n",
    "        return x * y\n",
    "    elif operation == \"divide\":\n",
    "        return x / y\n",
    "\n",
    "calculator.show(run=True)"
   ]
  },
  {
   "cell_type": "markdown",
   "metadata": {},
   "source": [
    "### Pretend the calculation is lengthy and add a progress bar"
   ]
  },
  {
   "cell_type": "code",
   "execution_count": 12,
   "metadata": {},
   "outputs": [
    {
     "data": {
      "image/png": "[encoded data removed]",
      "text/plain": [
       "<FunctionGui calculator(x: int = 0, y: int = 0, operation='add')>"
      ]
     },
     "execution_count": 12,
     "metadata": {},
     "output_type": "execute_result"
    }
   ],
   "source": [
    "from magicgui.tqdm import trange\n",
    "\n",
    "@magicgui(operation={\"choices\": [\"add\", \"subtract\", \"multiply\", \"divide\"]},\n",
    "         call_button=\"Calculate\", result_widget=True)\n",
    "def calculator(x: int, y: int, operation=\"add\"):\n",
    "    for _i in trange(100):\n",
    "        sleep(0.01)\n",
    "        \n",
    "    if operation == \"add\":\n",
    "        return x + y\n",
    "    elif operation == \"subtract\":\n",
    "        return x - y\n",
    "    elif operation == \"multiply\":\n",
    "        return x * y\n",
    "    elif operation == \"divide\":\n",
    "        return x / y\n",
    "\n",
    "calculator.show(run=True)"
   ]
  },
  {
   "cell_type": "markdown",
   "metadata": {},
   "source": [
    "### Change widget types"
   ]
  },
  {
   "cell_type": "code",
   "execution_count": 15,
   "metadata": {},
   "outputs": [
    {
     "data": {
      "image/png": "[encoded data removed]",
      "text/plain": [
       "<FunctionGui calculator(x: int = 6, y: int = 100, operation='multiply')>"
      ]
     },
     "execution_count": 15,
     "metadata": {},
     "output_type": "execute_result"
    }
   ],
   "source": [
    "from magicgui.tqdm import trange\n",
    "\n",
    "@magicgui(operation={\"choices\": [\"add\", \"subtract\", \"multiply\", \"divide\"]},\n",
    "         call_button=\"Calculate\", result_widget=True,\n",
    "         x={\"widget_type\": \"SpinBox\",\"min\": 0, \"max\": 100},\n",
    "         y={\"widget_type\": \"Slider\", \"min\": 0, \"max\": 100})\n",
    "def calculator(x: int, y: int, operation=\"add\"):\n",
    "    for _i in trange(100):\n",
    "        sleep(0.01)\n",
    "        \n",
    "    if operation == \"add\":\n",
    "        return x + y\n",
    "    elif operation == \"subtract\":\n",
    "        return x - y\n",
    "    elif operation == \"multiply\":\n",
    "        return x * y\n",
    "    elif operation == \"divide\":\n",
    "        return x / y\n",
    "\n",
    "calculator.show(run=True)"
   ]
  }
 ],
 "metadata": {
  "kernelspec": {
   "display_name": "magicgui",
   "language": "python",
   "name": "magicgui"
  },
  "language_info": {
   "codemirror_mode": {
    "name": "ipython",
    "version": 3
   },
   "file_extension": ".py",
   "mimetype": "text/x-python",
   "name": "python",
   "nbconvert_exporter": "python",
   "pygments_lexer": "ipython3",
   "version": "3.10.9"
  }
 },
 "nbformat": 4,
 "nbformat_minor": 1
}
